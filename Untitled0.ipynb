{
  "nbformat": 4,
  "nbformat_minor": 0,
  "metadata": {
    "colab": {
      "provenance": [],
      "mount_file_id": "1j6zJO8ZFQpS44Yff6MVzXTPgQK-nnCbu",
      "authorship_tag": "ABX9TyPsizhzBxL0g+AJtfhmPCbS",
      "include_colab_link": true
    },
    "kernelspec": {
      "name": "python3",
      "display_name": "Python 3"
    },
    "language_info": {
      "name": "python"
    }
  },
  "cells": [
    {
      "cell_type": "markdown",
      "metadata": {
        "id": "view-in-github",
        "colab_type": "text"
      },
      "source": [
        "<a href=\"https://colab.research.google.com/github/Merin-Maria-Mathew/NexForce/blob/main/Untitled0.ipynb\" target=\"_parent\"><img src=\"https://colab.research.google.com/assets/colab-badge.svg\" alt=\"Open In Colab\"/></a>"
      ]
    },
    {
      "cell_type": "code",
      "execution_count": null,
      "metadata": {
        "id": "g7IGcS-kxf-B"
      },
      "outputs": [],
      "source": [
        "import pandas as pd\n",
        "from statistics import mean, median, mode\n",
        "path=\"/content/drive/MyDrive/Data Set/SOCR-HeightWeight.csv\"\n",
        "data=pd.read_csv(path)\n",
        "\n",
        "data_height=data['Height(Inches)']\n",
        "data_weight=data['Weight(Pounds)']\n",
        "\n",
        "#To find Mean\n",
        "height_mean=mean(data_height)\n",
        "weight_mean=mean(data_weight)\n",
        "\n",
        "#To find median\n",
        "height_median=median(data_height)\n",
        "weight_median=median(data_weight)\n",
        "\n",
        "#to find mode\n",
        "height_mode=mode(data_height)\n",
        "weight_mode=mode(data_weight)\n",
        "\n",
        "print(\"*Height*\")\n",
        "print(\"mean:\",height_mean)\n",
        "print(\"median:\",height_median)\n",
        "print(\"mode:\",height_mode)\n",
        "print(\"*weight*\")\n",
        "print(\"mean:\",weight_mean)\n",
        "print(\"median:\",weight_median)\n",
        "print(\"mode:\",weight_mode)"
      ]
    }
  ]
}